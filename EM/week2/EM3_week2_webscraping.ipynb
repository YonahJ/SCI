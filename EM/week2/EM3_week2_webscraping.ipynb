{
  "nbformat": 4,
  "nbformat_minor": 0,
  "metadata": {
    "colab": {
      "name": "EM3_week2_webscraping.ipynb",
      "provenance": [],
      "collapsed_sections": [],
      "include_colab_link": true
    },
    "kernelspec": {
      "name": "python3",
      "display_name": "Python 3"
    },
    "language_info": {
      "name": "python"
    }
  },
  "cells": [
    {
      "cell_type": "markdown",
      "metadata": {
        "id": "view-in-github",
        "colab_type": "text"
      },
      "source": [
        "<a href=\"https://colab.research.google.com/github/YonahJ/SCI/blob/main/EM3_week2_webscraping.ipynb\" target=\"_parent\"><img src=\"https://colab.research.google.com/assets/colab-badge.svg\" alt=\"Open In Colab\"/></a>"
      ]
    },
    {
      "cell_type": "markdown",
      "metadata": {
        "id": "1sq4QXUg77aG"
      },
      "source": [
        "\n",
        "\n",
        "```\n",
        "Webscraping functions\n",
        "```\n",
        "\n"
      ]
    },
    {
      "cell_type": "code",
      "metadata": {
        "id": "EZrJQaeJ8Nnu"
      },
      "source": [
        "## First we import the module necessary to open URLs (basically websites)\n",
        "from urllib.request import urlopen"
      ],
      "execution_count": null,
      "outputs": []
    },
    {
      "cell_type": "code",
      "metadata": {
        "id": "C9VDLiyi9CuG"
      },
      "source": [
        "## Assign a variable to a website we want to open\n",
        "url = \"http://olympus.realpython.org/profiles\""
      ],
      "execution_count": null,
      "outputs": []
    },
    {
      "cell_type": "code",
      "metadata": {
        "colab": {
          "base_uri": "https://localhost:8080/"
        },
        "id": "BCVJr0-F9MPU",
        "outputId": "aaa3496a-48da-476f-fde5-b155c6dc0a05"
      },
      "source": [
        "## Open the page\n",
        "page = urlopen(url)\n",
        "print(page)"
      ],
      "execution_count": null,
      "outputs": [
        {
          "output_type": "stream",
          "name": "stdout",
          "text": [
            "<http.client.HTTPResponse object at 0x7f92054ef790>\n"
          ]
        }
      ]
    },
    {
      "cell_type": "code",
      "metadata": {
        "colab": {
          "base_uri": "https://localhost:8080/"
        },
        "id": "Nsnkntxz9aLN",
        "outputId": "d6c45714-be35-4493-8838-aacd2f8bdb33"
      },
      "source": [
        "## read the html page\n",
        "html_bytes = page.read()\n",
        "print(html_bytes)\n",
        "\n",
        "## decode the page in standard characters unicode standard or utf-8\n",
        "html = html_bytes.decode(\"utf-8\")"
      ],
      "execution_count": null,
      "outputs": [
        {
          "output_type": "stream",
          "name": "stdout",
          "text": [
            "b'<html>\\n<head>\\n<title>All Profiles</title>\\n</head>\\n<body bgcolor=\"yellow\">\\n<center>\\n<br><br>\\n<h1>All Profiles:</h1>\\n<br><br>\\n<h2>\\n<a href=\"/profiles/aphrodite\">Aphrodite</a>\\n<br><br>\\n<a href=\"/profiles/poseidon\">Poseidon</a>\\n<br><br>\\n<a href=\"/profiles/dionysus\">Dionysus</a>\\n</h2>\\n</center>\\n</body>\\n</html>\\n'\n"
          ]
        }
      ]
    },
    {
      "cell_type": "code",
      "metadata": {
        "colab": {
          "base_uri": "https://localhost:8080/"
        },
        "id": "kQd57Gw1-JCF",
        "outputId": "0f72884d-d72c-41e5-e81c-485b46679407"
      },
      "source": [
        "## print the content of a page\n",
        "print(html)"
      ],
      "execution_count": null,
      "outputs": [
        {
          "output_type": "stream",
          "name": "stdout",
          "text": [
            "<html>\n",
            "<head>\n",
            "<title>All Profiles</title>\n",
            "</head>\n",
            "<body bgcolor=\"yellow\">\n",
            "<center>\n",
            "<br><br>\n",
            "<h1>All Profiles:</h1>\n",
            "<br><br>\n",
            "<h2>\n",
            "<a href=\"/profiles/aphrodite\">Aphrodite</a>\n",
            "<br><br>\n",
            "<a href=\"/profiles/poseidon\">Poseidon</a>\n",
            "<br><br>\n",
            "<a href=\"/profiles/dionysus\">Dionysus</a>\n",
            "</h2>\n",
            "</center>\n",
            "</body>\n",
            "</html>\n",
            "\n"
          ]
        }
      ]
    },
    {
      "cell_type": "code",
      "metadata": {
        "colab": {
          "base_uri": "https://localhost:8080/"
        },
        "id": "qpg2Npd4-1rq",
        "outputId": "d3f02f1b-f7ff-4878-e727-88af71c150a4"
      },
      "source": [
        "## Use a HTML parser (HyperText Markup Language) to read the webside content\n",
        "## BeautifulSoup is a HTML parser\n",
        "\n",
        "## First we import it\n",
        "from bs4 import BeautifulSoup\n",
        "\n",
        "\n",
        "## Now lets create a 'soup' to read the webpage\n",
        "url = \"http://olympus.realpython.org/profiles\"\n",
        "page = urlopen(url)\n",
        "html = page.read().decode(\"utf-8\")\n",
        "\n",
        "## This creates a BeautifulObject, which we can navigate with custom functions\n",
        "soup = BeautifulSoup(html, \"html.parser\")\n",
        "\n",
        "## For example\n",
        "## Check the content of the BS object\n",
        "print(\"RAW SOUP:\")\n",
        "print(soup)\n",
        "print('\\n')\n",
        "\n",
        "\n",
        "## The function get_text() gets rid of all HTML tags - for display\n",
        "print(\"The function get_text() gets rid of all HTML tags - for display\")\n",
        "print(\"SOUP TEXT:\")\n",
        "print(soup.get_text())\n",
        "print('\\n')"
      ],
      "execution_count": null,
      "outputs": [
        {
          "output_type": "stream",
          "name": "stdout",
          "text": [
            "RAW SOUP:\n",
            "<html>\n",
            "<head>\n",
            "<title>All Profiles</title>\n",
            "</head>\n",
            "<body bgcolor=\"yellow\">\n",
            "<center>\n",
            "<br/><br/>\n",
            "<h1>All Profiles:</h1>\n",
            "<br/><br/>\n",
            "<h2>\n",
            "<a href=\"/profiles/aphrodite\">Aphrodite</a>\n",
            "<br/><br/>\n",
            "<a href=\"/profiles/poseidon\">Poseidon</a>\n",
            "<br/><br/>\n",
            "<a href=\"/profiles/dionysus\">Dionysus</a>\n",
            "</h2>\n",
            "</center>\n",
            "</body>\n",
            "</html>\n",
            "\n",
            "\n",
            "\n",
            "The function get_text() gets rid of all HTML tags - for display\n",
            "SOUP TEXT:\n",
            "\n",
            "\n",
            "All Profiles\n",
            "\n",
            "\n",
            "\n",
            "\n",
            "All Profiles:\n",
            "\n",
            "\n",
            "Aphrodite\n",
            "\n",
            "Poseidon\n",
            "\n",
            "Dionysus\n",
            "\n",
            "\n",
            "\n",
            "\n",
            "\n",
            "\n",
            "\n"
          ]
        }
      ]
    },
    {
      "cell_type": "code",
      "metadata": {
        "colab": {
          "base_uri": "https://localhost:8080/"
        },
        "id": "uf38HnJV_5DX",
        "outputId": "5fea3690-c3e0-4f81-af95-ce82c133bdb3"
      },
      "source": [
        "## Let's print again the content of the soup\n",
        "## Check the hyperlinks within the page, i.e., the profiles, have the tag <a href>\n",
        "\n",
        "## Check the content of the BS object\n",
        "print(\"RAW SOUP:\")\n",
        "print(soup)\n",
        "print('\\n')"
      ],
      "execution_count": null,
      "outputs": [
        {
          "output_type": "stream",
          "name": "stdout",
          "text": [
            "RAW SOUP:\n",
            "<html>\n",
            "<head>\n",
            "<title>All Profiles</title>\n",
            "</head>\n",
            "<body bgcolor=\"yellow\">\n",
            "<center>\n",
            "<br/><br/>\n",
            "<h1>All Profiles:</h1>\n",
            "<br/><br/>\n",
            "<h2>\n",
            "<a href=\"/profiles/aphrodite\">Aphrodite</a>\n",
            "<br/><br/>\n",
            "<a href=\"/profiles/poseidon\">Poseidon</a>\n",
            "<br/><br/>\n",
            "<a href=\"/profiles/dionysus\">Dionysus</a>\n",
            "</h2>\n",
            "</center>\n",
            "</body>\n",
            "</html>\n",
            "\n",
            "\n",
            "\n"
          ]
        }
      ]
    },
    {
      "cell_type": "code",
      "metadata": {
        "colab": {
          "base_uri": "https://localhost:8080/"
        },
        "id": "uRttmIPsEDc4",
        "outputId": "4147f92c-505d-4aff-bc8c-61d73776396b"
      },
      "source": [
        "## Let's access those links!\n",
        "## First lets find all elements of the page with the tag 'a'\n",
        "for element in soup.find_all(\"a\"):\n",
        "  print(element)\n"
      ],
      "execution_count": null,
      "outputs": [
        {
          "output_type": "stream",
          "name": "stdout",
          "text": [
            "<a href=\"/profiles/aphrodite\">Aphrodite</a>\n",
            "<a href=\"/profiles/poseidon\">Poseidon</a>\n",
            "<a href=\"/profiles/dionysus\">Dionysus</a>\n"
          ]
        }
      ]
    },
    {
      "cell_type": "code",
      "metadata": {
        "colab": {
          "base_uri": "https://localhost:8080/"
        },
        "id": "u4WDcHe-1uZH",
        "outputId": "1d0f5330-1307-4d77-9220-4b14acc7143a"
      },
      "source": [
        "## To access the TEXT HERE contained nested in the brackets\n",
        "## <. > TEXT HERE <. >\n",
        "## use .contents\n",
        "\n",
        "for element in soup.find_all(\"a\"):\n",
        "  print(element.contents)"
      ],
      "execution_count": null,
      "outputs": [
        {
          "output_type": "stream",
          "name": "stdout",
          "text": [
            "['Aphrodite']\n",
            "['Poseidon']\n",
            "['Dionysus']\n"
          ]
        }
      ]
    },
    {
      "cell_type": "code",
      "metadata": {
        "colab": {
          "base_uri": "https://localhost:8080/"
        },
        "id": "6URDnuRgFXuu",
        "outputId": "45abb708-8615-4870-8220-bd35a2515ecd"
      },
      "source": [
        "## We can also acess the sub_url nested in the tag 'a', this is the href\n",
        "for element in soup.find_all(\"a\"):\n",
        "  print(element[\"href\"])\n"
      ],
      "execution_count": null,
      "outputs": [
        {
          "output_type": "stream",
          "name": "stdout",
          "text": [
            "/profiles/aphrodite\n",
            "/profiles/poseidon\n",
            "/profiles/dionysus\n"
          ]
        }
      ]
    },
    {
      "cell_type": "code",
      "metadata": {
        "colab": {
          "base_uri": "https://localhost:8080/"
        },
        "id": "F63HwHmYEUHT",
        "outputId": "102b746b-8b13-440d-b982-ec905329d3d8"
      },
      "source": [
        "## Putting it together we can obtain the links to the suburls\n",
        "\n",
        "base_url = \"http://olympus.realpython.org\"\n",
        "for link in soup.find_all(\"a\"):\n",
        "    link_url = base_url + link[\"href\"]\n",
        "    print(link_url)\n"
      ],
      "execution_count": null,
      "outputs": [
        {
          "output_type": "stream",
          "name": "stdout",
          "text": [
            "http://olympus.realpython.org/profiles/aphrodite\n",
            "http://olympus.realpython.org/profiles/poseidon\n",
            "http://olympus.realpython.org/profiles/dionysus\n"
          ]
        }
      ]
    },
    {
      "cell_type": "code",
      "metadata": {
        "colab": {
          "base_uri": "https://localhost:8080/"
        },
        "id": "yDOpY_enFtVE",
        "outputId": "ec28f73a-bab7-4470-b301-d696dace10db"
      },
      "source": [
        "## Lets now look into the content of one of these links\n",
        "## using the same procedure\n",
        "\n",
        "url_aphrodite = \"http://olympus.realpython.org/profiles/aphrodite\"\n",
        "page = urlopen(url_aphrodite)\n",
        "html = page.read().decode(\"utf-8\")\n",
        "soup = BeautifulSoup(html, \"html.parser\")\n",
        "\n",
        "print(soup)"
      ],
      "execution_count": null,
      "outputs": [
        {
          "output_type": "stream",
          "name": "stdout",
          "text": [
            "<html>\n",
            "<head>\n",
            "<title>Profile: Aphrodite</title>\n",
            "</head>\n",
            "<body bgcolor=\"yellow\">\n",
            "<center>\n",
            "<br/><br/>\n",
            "<img src=\"/static/aphrodite.gif\"/>\n",
            "<h2>Name: Aphrodite</h2>\n",
            "<br/><br/>\n",
            "Favorite animal: Dove\n",
            "<br/><br/>\n",
            "Favorite color: Red\n",
            "<br/><br/>\n",
            "Hometown: Mount Olympus\n",
            "</center>\n",
            "</body>\n",
            "</html>\n",
            "\n"
          ]
        }
      ]
    },
    {
      "cell_type": "code",
      "metadata": {
        "colab": {
          "base_uri": "https://localhost:8080/"
        },
        "id": "Sp715Z90FLlM",
        "outputId": "84fd67cb-ec78-4764-844b-f1d093d825d8"
      },
      "source": [
        "## Find the information within the tags\n",
        "\n",
        "title = soup.find(\"title\")\n",
        "image = soup.find(\"img\")\n",
        "name = soup.find(\"h2\")\n",
        "\n",
        "print(title)\n",
        "print(image)\n",
        "print(name)"
      ],
      "execution_count": null,
      "outputs": [
        {
          "output_type": "stream",
          "name": "stdout",
          "text": [
            "<title>Profile: Aphrodite</title>\n",
            "<img src=\"/static/aphrodite.gif\"/>\n",
            "<h2>Name: Aphrodite</h2>\n"
          ]
        }
      ]
    },
    {
      "cell_type": "code",
      "metadata": {
        "colab": {
          "base_uri": "https://localhost:8080/"
        },
        "id": "03Aq0h6oIwHL",
        "outputId": "19bd8708-c277-4b69-853d-bcfc61f134d0"
      },
      "source": [
        "## We can print the text using the function string\n",
        "\n",
        "print(title.string)\n",
        "print(name.string)\n",
        "\n",
        "print(title.contents)\n",
        "print(name.contents)"
      ],
      "execution_count": null,
      "outputs": [
        {
          "output_type": "stream",
          "name": "stdout",
          "text": [
            "Profile: Aphrodite\n",
            "Name: Aphrodite\n",
            "['Profile: Aphrodite']\n",
            "['Name: Aphrodite']\n"
          ]
        }
      ]
    },
    {
      "cell_type": "code",
      "metadata": {
        "colab": {
          "base_uri": "https://localhost:8080/",
          "height": 203
        },
        "id": "vVIJ0_4lJ6Rp",
        "outputId": "18d78400-f173-4be3-9991-c56ea3be1caa"
      },
      "source": [
        "## We can access the url of the image\n",
        "from PIL import Image\n",
        "from urllib.request import urlretrieve\n",
        "import requests\n",
        "from io import BytesIO\n",
        "\n",
        "\n",
        "img_url= base_url + image[\"src\"]\n",
        "response = requests.get(img_url)\n",
        "\n",
        "img = Image.open(BytesIO(response.content))\n",
        "img"
      ],
      "execution_count": null,
      "outputs": [
        {
          "output_type": "execute_result",
          "data": {
            "image/png": "[encoded data removed]",
            "text/plain": [
              "<PIL.GifImagePlugin.GifImageFile image mode=P size=199x186 at 0x7F9204327D10>"
            ]
          },
          "metadata": {},
          "execution_count": 15
        }
      ]
    },
    {
      "cell_type": "code",
      "metadata": {
        "id": "KDny7Tp0O9Z5"
      },
      "source": [
        "# save image\n",
        "img = img.save(\"aphrodite.gif\")"
      ],
      "execution_count": null,
      "outputs": []
    },
    {
      "cell_type": "code",
      "metadata": {
        "colab": {
          "base_uri": "https://localhost:8080/"
        },
        "id": "HuajTvVfXROQ",
        "outputId": "c02717c5-9b82-44c4-bb66-b8b8d2875a38"
      },
      "source": [
        "## Lets have another look at the content of aphrodite\n",
        "\n",
        "url_aphrodite = \"http://olympus.realpython.org/profiles/aphrodite\"\n",
        "page = urlopen(url_aphrodite)\n",
        "html = page.read().decode(\"utf-8\")\n",
        "soup = BeautifulSoup(html, \"html.parser\")\n",
        "\n",
        "print(soup)"
      ],
      "execution_count": null,
      "outputs": [
        {
          "output_type": "stream",
          "name": "stdout",
          "text": [
            "<html>\n",
            "<head>\n",
            "<title>Profile: Aphrodite</title>\n",
            "</head>\n",
            "<body bgcolor=\"yellow\">\n",
            "<center>\n",
            "<br/><br/>\n",
            "<img src=\"/static/aphrodite.gif\"/>\n",
            "<h2>Name: Aphrodite</h2>\n",
            "<br/><br/>\n",
            "Favorite animal: Dove\n",
            "<br/><br/>\n",
            "Favorite color: Red\n",
            "<br/><br/>\n",
            "Hometown: Mount Olympus\n",
            "</center>\n",
            "</body>\n",
            "</html>\n",
            "\n"
          ]
        }
      ]
    },
    {
      "cell_type": "code",
      "metadata": {
        "colab": {
          "base_uri": "https://localhost:8080/"
        },
        "id": "XowEDEc6YBR9",
        "outputId": "fcfd6cce-c939-4ce4-ef98-d2f78c80f3bb"
      },
      "source": [
        "## How do we access the content without TAGs?\n",
        "\n",
        "#Favorite animal: Dove\n",
        "#Favorite color: Red\n",
        "#Hometown: Mount Olympus\n",
        "\n",
        "#using the tag body() and get_text()\n",
        "\n",
        "body = soup.find('body').get_text()\n",
        "print(body)\n"
      ],
      "execution_count": null,
      "outputs": [
        {
          "output_type": "stream",
          "name": "stdout",
          "text": [
            "\n",
            "\n",
            "\n",
            "\n",
            "Name: Aphrodite\n",
            "\n",
            "Favorite animal: Dove\n",
            "\n",
            "Favorite color: Red\n",
            "\n",
            "Hometown: Mount Olympus\n",
            "\n",
            "\n"
          ]
        }
      ]
    },
    {
      "cell_type": "code",
      "metadata": {
        "colab": {
          "base_uri": "https://localhost:8080/"
        },
        "id": "pX97lhszdRdO",
        "outputId": "243f6944-618c-46b9-da9d-8ad45e91c177"
      },
      "source": [
        "## separate lines of the body into a list using the function split()\n",
        "## in python '\\n' means paragraph\n",
        "body_lines = body.split('\\n')\n",
        "attribute_list = list(filter(lambda val: val !=  '', body_lines)) \n",
        "\n",
        "\n",
        "print(attribute_list)"
      ],
      "execution_count": null,
      "outputs": [
        {
          "output_type": "stream",
          "name": "stdout",
          "text": [
            "['Name: Aphrodite', 'Favorite animal: Dove', 'Favorite color: Red', 'Hometown: Mount Olympus']\n"
          ]
        }
      ]
    },
    {
      "cell_type": "code",
      "metadata": {
        "colab": {
          "base_uri": "https://localhost:8080/"
        },
        "id": "ahAebMKzfH26",
        "outputId": "3f830ae6-8a02-4661-f765-d6e9ddab7948"
      },
      "source": [
        "## save the attributes of aphrodite into variables\n",
        "\n",
        "list_of_attributes = []\n",
        "\n",
        "for line in attribute_list:\n",
        "  print(line)\n",
        "\n",
        "  ## the next command splits the line into 2 components, before and after ':' - line.split(':')\n",
        "  ## and obtains the 'key', i.e. the element after ':' - [1]\n",
        "  ## it also gets rid of the space after ':' by starting the string on the second position - [1:]\n",
        "\n",
        "  key = line.split(':')[1][1:]\n",
        "\n",
        "  if 'Name' in line: name = key\n",
        "  if 'animal' in line: animal = key\n",
        "  if 'color' in line: color = key\n",
        "  if 'Hometown' in line: home = key\n",
        "\n",
        "list_of_attributes = [name, animal,color,home]\n",
        "print(list_of_attributes)"
      ],
      "execution_count": null,
      "outputs": [
        {
          "output_type": "stream",
          "name": "stdout",
          "text": [
            "Name: Aphrodite\n",
            "Favorite animal: Dove\n",
            "Favorite color: Red\n",
            "Hometown: Mount Olympus\n",
            "['Aphrodite', 'Dove', 'Red', 'Mount Olympus']\n"
          ]
        }
      ]
    },
    {
      "cell_type": "code",
      "metadata": {
        "colab": {
          "base_uri": "https://localhost:8080/"
        },
        "id": "0fu_7DgJj99g",
        "outputId": "c2cb7e0a-8d9b-4a62-d3b1-7a7fccb80b67"
      },
      "source": [
        "## Now lets obtain the list of attributes of all characters listed in the base URL\n",
        "\n",
        "attributes_all = []\n",
        "\n",
        "## Again we open the base URL and create a soup we can read\n",
        "url = \"http://olympus.realpython.org/profiles\"\n",
        "page = urlopen(url)\n",
        "html = page.read().decode(\"utf-8\")\n",
        "soup = BeautifulSoup(html, \"html.parser\")\n",
        "\n",
        "## Now we iterate over ths subURLs\n",
        "base_url = \"http://olympus.realpython.org\"\n",
        "for link in soup.find_all(\"a\"):\n",
        "    subURL = base_url + link[\"href\"]\n",
        "    print(subURL)\n",
        "\n",
        "    ## for each subURL we open a new subSoup s_soup\n",
        "    s_page = urlopen(subURL)\n",
        "    s_html = s_page.read().decode(\"utf-8\")\n",
        "    s_soup = BeautifulSoup(s_html, \"html.parser\")\n",
        "\n",
        "    ## for each we obtain the list of attributes\n",
        "    s_body = s_soup.find('body').get_text()\n",
        "    s_body_lines = s_body.split('\\n')\n",
        "    s_attribute_list = list(filter(lambda val: val !=  '', s_body_lines)) \n",
        "    print(s_attribute_list)\n",
        "\n",
        "    ## strip the attributes to the basic elements\n",
        "    key_attr = []\n",
        "    for line in s_attribute_list:\n",
        "      key = line.split(':')[1][1:]\n",
        "      key_attr +=[key]\n",
        "    print(key_attr)\n",
        "\n",
        "    ## add the attributes of each character to the list of all characters\n",
        "    attributes_all += [key_attr]\n",
        "\n",
        "print(attributes_all)"
      ],
      "execution_count": null,
      "outputs": [
        {
          "output_type": "stream",
          "name": "stdout",
          "text": [
            "http://olympus.realpython.org/profiles/aphrodite\n",
            "['Name: Aphrodite', 'Favorite animal: Dove', 'Favorite color: Red', 'Hometown: Mount Olympus']\n",
            "['Aphrodite', 'Dove', 'Red', 'Mount Olympus']\n",
            "http://olympus.realpython.org/profiles/poseidon\n",
            "['Name: Poseidon', 'Favorite animal: Dolphin', 'Favorite color: Blue', 'Hometown: Sea']\n",
            "['Poseidon', 'Dolphin', 'Blue', 'Sea']\n",
            "http://olympus.realpython.org/profiles/dionysus\n",
            "['Name: Dionysus', 'Hometown: Mount Olympus', 'Favorite animal: Leopard ', 'Favorite Color: Wine']\n",
            "['Dionysus', 'Mount Olympus', 'Leopard ', 'Wine']\n",
            "[['Aphrodite', 'Dove', 'Red', 'Mount Olympus'], ['Poseidon', 'Dolphin', 'Blue', 'Sea'], ['Dionysus', 'Mount Olympus', 'Leopard ', 'Wine']]\n"
          ]
        }
      ]
    },
    {
      "cell_type": "code",
      "metadata": {
        "colab": {
          "base_uri": "https://localhost:8080/",
          "height": 143
        },
        "id": "eeKVXKP-qsn4",
        "outputId": "7e7f3109-3551-4c29-f3cd-16a9f29ad570"
      },
      "source": [
        "## Create a dataframe with the information\n",
        "\n",
        "import pandas as pd\n",
        "\n",
        "df = pd.DataFrame(attributes_all,columns =['name','Favourite animal','Favourite colour','Hometown']) \n",
        "df\n"
      ],
      "execution_count": null,
      "outputs": [
        {
          "output_type": "execute_result",
          "data": {
            "text/html": [
              "<div>\n",
              "<style scoped>\n",
              "    .dataframe tbody tr th:only-of-type {\n",
              "        vertical-align: middle;\n",
              "    }\n",
              "\n",
              "    .dataframe tbody tr th {\n",
              "        vertical-align: top;\n",
              "    }\n",
              "\n",
              "    .dataframe thead th {\n",
              "        text-align: right;\n",
              "    }\n",
              "</style>\n",
              "<table border=\"1\" class=\"dataframe\">\n",
              "  <thead>\n",
              "    <tr style=\"text-align: right;\">\n",
              "      <th></th>\n",
              "      <th>name</th>\n",
              "      <th>Favourite animal</th>\n",
              "      <th>Favourite colour</th>\n",
              "      <th>Hometown</th>\n",
              "    </tr>\n",
              "  </thead>\n",
              "  <tbody>\n",
              "    <tr>\n",
              "      <th>0</th>\n",
              "      <td>Aphrodite</td>\n",
              "      <td>Dove</td>\n",
              "      <td>Red</td>\n",
              "      <td>Mount Olympus</td>\n",
              "    </tr>\n",
              "    <tr>\n",
              "      <th>1</th>\n",
              "      <td>Poseidon</td>\n",
              "      <td>Dolphin</td>\n",
              "      <td>Blue</td>\n",
              "      <td>Sea</td>\n",
              "    </tr>\n",
              "    <tr>\n",
              "      <th>2</th>\n",
              "      <td>Dionysus</td>\n",
              "      <td>Mount Olympus</td>\n",
              "      <td>Leopard</td>\n",
              "      <td>Wine</td>\n",
              "    </tr>\n",
              "  </tbody>\n",
              "</table>\n",
              "</div>"
            ],
            "text/plain": [
              "        name Favourite animal Favourite colour       Hometown\n",
              "0  Aphrodite             Dove              Red  Mount Olympus\n",
              "1   Poseidon          Dolphin             Blue            Sea\n",
              "2   Dionysus    Mount Olympus         Leopard            Wine"
            ]
          },
          "metadata": {},
          "execution_count": 22
        }
      ]
    },
    {
      "cell_type": "code",
      "metadata": {
        "id": "zzKplLY7XHrM"
      },
      "source": [
        "##Save it to a excel file\n",
        "df.to_csv('greek_gods.csv', index=False, encoding='utf-8')"
      ],
      "execution_count": null,
      "outputs": []
    }
  ]
}
