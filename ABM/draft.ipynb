{
  "nbformat": 4,
  "nbformat_minor": 0,
  "metadata": {
    "colab": {
      "name": "draft.ipynb",
      "provenance": [],
      "collapsed_sections": [],
      "authorship_tag": "ABX9TyPohFCYwfSlGKvb7LUghG0T",
      "include_colab_link": true
    },
    "kernelspec": {
      "name": "python3",
      "display_name": "Python 3"
    },
    "language_info": {
      "name": "python"
    }
  },
  "cells": [
    {
      "cell_type": "markdown",
      "metadata": {
        "id": "view-in-github",
        "colab_type": "text"
      },
      "source": [
        "<a href=\"https://colab.research.google.com/github/YonahJ/SCI/blob/main/ABM/draft.ipynb\" target=\"_parent\"><img src=\"https://colab.research.google.com/assets/colab-badge.svg\" alt=\"Open In Colab\"/></a>"
      ]
    },
    {
      "cell_type": "code",
      "metadata": {
        "id": "vqaEsfqSkdxp"
      },
      "source": [
        "import pandas as pd\n",
        "import numpy as np\n",
        "import matplotlib.pyplot as plt"
      ],
      "execution_count": null,
      "outputs": []
    },
    {
      "cell_type": "code",
      "metadata": {
        "id": "Wq3nuNIAkhsz"
      },
      "source": [
        "#initializing the parameters\n",
        "N = 100\n",
        "t_max = 200"
      ],
      "execution_count": null,
      "outputs": []
    },
    {
      "cell_type": "code",
      "metadata": {
        "id": "Fbprt4mIkni2"
      },
      "source": [
        "#Random generator\n",
        "def random_gen(size, p=None):\n",
        "    \"\"\"Generate n-length ndarray of traits\"\"\"\n",
        "    if not p:\n",
        "        # default probabilities\n",
        "        p = (0.5, 0.5)\n",
        "    traits = (\"A\", \"B\")\n",
        "    return np.random.choice(traits, size=size, p=p)"
      ],
      "execution_count": null,
      "outputs": []
    },
    {
      "cell_type": "code",
      "metadata": {
        "id": "tP6TVgoAlPJR",
        "colab": {
          "base_uri": "https://localhost:8080/",
          "height": 424
        },
        "outputId": "caf8b79b-bd8f-4d61-f5fa-db74ae341682"
      },
      "source": [
        "#Generation 1 with ~50% A and ~50% B\n",
        "df = pd.DataFrame(random_gen(N))\n",
        "df.columns = ['traits']\n",
        "df"
      ],
      "execution_count": null,
      "outputs": [
        {
          "output_type": "execute_result",
          "data": {
            "text/html": [
              "<div>\n",
              "<style scoped>\n",
              "    .dataframe tbody tr th:only-of-type {\n",
              "        vertical-align: middle;\n",
              "    }\n",
              "\n",
              "    .dataframe tbody tr th {\n",
              "        vertical-align: top;\n",
              "    }\n",
              "\n",
              "    .dataframe thead th {\n",
              "        text-align: right;\n",
              "    }\n",
              "</style>\n",
              "<table border=\"1\" class=\"dataframe\">\n",
              "  <thead>\n",
              "    <tr style=\"text-align: right;\">\n",
              "      <th></th>\n",
              "      <th>traits</th>\n",
              "    </tr>\n",
              "  </thead>\n",
              "  <tbody>\n",
              "    <tr>\n",
              "      <th>0</th>\n",
              "      <td>A</td>\n",
              "    </tr>\n",
              "    <tr>\n",
              "      <th>1</th>\n",
              "      <td>B</td>\n",
              "    </tr>\n",
              "    <tr>\n",
              "      <th>2</th>\n",
              "      <td>A</td>\n",
              "    </tr>\n",
              "    <tr>\n",
              "      <th>3</th>\n",
              "      <td>A</td>\n",
              "    </tr>\n",
              "    <tr>\n",
              "      <th>4</th>\n",
              "      <td>B</td>\n",
              "    </tr>\n",
              "    <tr>\n",
              "      <th>...</th>\n",
              "      <td>...</td>\n",
              "    </tr>\n",
              "    <tr>\n",
              "      <th>95</th>\n",
              "      <td>B</td>\n",
              "    </tr>\n",
              "    <tr>\n",
              "      <th>96</th>\n",
              "      <td>A</td>\n",
              "    </tr>\n",
              "    <tr>\n",
              "      <th>97</th>\n",
              "      <td>A</td>\n",
              "    </tr>\n",
              "    <tr>\n",
              "      <th>98</th>\n",
              "      <td>A</td>\n",
              "    </tr>\n",
              "    <tr>\n",
              "      <th>99</th>\n",
              "      <td>A</td>\n",
              "    </tr>\n",
              "  </tbody>\n",
              "</table>\n",
              "<p>100 rows × 1 columns</p>\n",
              "</div>"
            ],
            "text/plain": [
              "   traits\n",
              "0       A\n",
              "1       B\n",
              "2       A\n",
              "3       A\n",
              "4       B\n",
              "..    ...\n",
              "95      B\n",
              "96      A\n",
              "97      A\n",
              "98      A\n",
              "99      A\n",
              "\n",
              "[100 rows x 1 columns]"
            ]
          },
          "metadata": {},
          "execution_count": 7
        }
      ]
    },
    {
      "cell_type": "code",
      "metadata": {
        "colab": {
          "base_uri": "https://localhost:8080/",
          "height": 81
        },
        "id": "2JuHlREItT7r",
        "outputId": "9059da26-a34d-4c7e-fad2-9cd97d40efe7"
      },
      "source": [
        "#Creating the output DF that contains the generation and P of A\n",
        "data = [[1, df['traits'].value_counts()['A']/N]]\n",
        "output = pd.DataFrame(data, columns = ['tmax', 'p'])\n",
        "output"
      ],
      "execution_count": null,
      "outputs": [
        {
          "output_type": "execute_result",
          "data": {
            "text/html": [
              "<div>\n",
              "<style scoped>\n",
              "    .dataframe tbody tr th:only-of-type {\n",
              "        vertical-align: middle;\n",
              "    }\n",
              "\n",
              "    .dataframe tbody tr th {\n",
              "        vertical-align: top;\n",
              "    }\n",
              "\n",
              "    .dataframe thead th {\n",
              "        text-align: right;\n",
              "    }\n",
              "</style>\n",
              "<table border=\"1\" class=\"dataframe\">\n",
              "  <thead>\n",
              "    <tr style=\"text-align: right;\">\n",
              "      <th></th>\n",
              "      <th>tmax</th>\n",
              "      <th>p</th>\n",
              "    </tr>\n",
              "  </thead>\n",
              "  <tbody>\n",
              "    <tr>\n",
              "      <th>0</th>\n",
              "      <td>1</td>\n",
              "      <td>0.51</td>\n",
              "    </tr>\n",
              "  </tbody>\n",
              "</table>\n",
              "</div>"
            ],
            "text/plain": [
              "   tmax     p\n",
              "0     1  0.51"
            ]
          },
          "metadata": {},
          "execution_count": 9
        }
      ]
    },
    {
      "cell_type": "code",
      "metadata": {
        "id": "_48IH5fPwl0m"
      },
      "source": [
        "#Transmission \n",
        "for t in range(2,201):\n",
        "  p_df = df\n",
        "  records = p_df.to_records(index=False)\n",
        "  result = list(records)\n",
        "  df = pd.DataFrame(np.random.choice(result, N, replace= True))\n",
        "  exists = 'A' in df.traits.unique()\n",
        "  if exists:\n",
        "    s = df['traits'].value_counts()['A']\n",
        "  else:\n",
        "    s = 0\n",
        "  o = {'tmax': t, 'p': s/N}\n",
        "  output = output.append(o, ignore_index = True)\n"
      ],
      "execution_count": null,
      "outputs": []
    },
    {
      "cell_type": "code",
      "metadata": {
        "colab": {
          "base_uri": "https://localhost:8080/",
          "height": 424
        },
        "id": "HzquNKPQ0Zw_",
        "outputId": "0178e41c-c7f3-413e-bce1-230415b83ef5"
      },
      "source": [
        "output"
      ],
      "execution_count": null,
      "outputs": [
        {
          "output_type": "execute_result",
          "data": {
            "text/html": [
              "<div>\n",
              "<style scoped>\n",
              "    .dataframe tbody tr th:only-of-type {\n",
              "        vertical-align: middle;\n",
              "    }\n",
              "\n",
              "    .dataframe tbody tr th {\n",
              "        vertical-align: top;\n",
              "    }\n",
              "\n",
              "    .dataframe thead th {\n",
              "        text-align: right;\n",
              "    }\n",
              "</style>\n",
              "<table border=\"1\" class=\"dataframe\">\n",
              "  <thead>\n",
              "    <tr style=\"text-align: right;\">\n",
              "      <th></th>\n",
              "      <th>tmax</th>\n",
              "      <th>p</th>\n",
              "    </tr>\n",
              "  </thead>\n",
              "  <tbody>\n",
              "    <tr>\n",
              "      <th>0</th>\n",
              "      <td>1.0</td>\n",
              "      <td>0.51</td>\n",
              "    </tr>\n",
              "    <tr>\n",
              "      <th>1</th>\n",
              "      <td>2.0</td>\n",
              "      <td>0.53</td>\n",
              "    </tr>\n",
              "    <tr>\n",
              "      <th>2</th>\n",
              "      <td>3.0</td>\n",
              "      <td>0.62</td>\n",
              "    </tr>\n",
              "    <tr>\n",
              "      <th>3</th>\n",
              "      <td>4.0</td>\n",
              "      <td>0.60</td>\n",
              "    </tr>\n",
              "    <tr>\n",
              "      <th>4</th>\n",
              "      <td>5.0</td>\n",
              "      <td>0.64</td>\n",
              "    </tr>\n",
              "    <tr>\n",
              "      <th>...</th>\n",
              "      <td>...</td>\n",
              "      <td>...</td>\n",
              "    </tr>\n",
              "    <tr>\n",
              "      <th>195</th>\n",
              "      <td>196.0</td>\n",
              "      <td>1.00</td>\n",
              "    </tr>\n",
              "    <tr>\n",
              "      <th>196</th>\n",
              "      <td>197.0</td>\n",
              "      <td>1.00</td>\n",
              "    </tr>\n",
              "    <tr>\n",
              "      <th>197</th>\n",
              "      <td>198.0</td>\n",
              "      <td>1.00</td>\n",
              "    </tr>\n",
              "    <tr>\n",
              "      <th>198</th>\n",
              "      <td>199.0</td>\n",
              "      <td>1.00</td>\n",
              "    </tr>\n",
              "    <tr>\n",
              "      <th>199</th>\n",
              "      <td>200.0</td>\n",
              "      <td>1.00</td>\n",
              "    </tr>\n",
              "  </tbody>\n",
              "</table>\n",
              "<p>200 rows × 2 columns</p>\n",
              "</div>"
            ],
            "text/plain": [
              "      tmax     p\n",
              "0      1.0  0.51\n",
              "1      2.0  0.53\n",
              "2      3.0  0.62\n",
              "3      4.0  0.60\n",
              "4      5.0  0.64\n",
              "..     ...   ...\n",
              "195  196.0  1.00\n",
              "196  197.0  1.00\n",
              "197  198.0  1.00\n",
              "198  199.0  1.00\n",
              "199  200.0  1.00\n",
              "\n",
              "[200 rows x 2 columns]"
            ]
          },
          "metadata": {},
          "execution_count": 11
        }
      ]
    },
    {
      "cell_type": "code",
      "metadata": {
        "colab": {
          "base_uri": "https://localhost:8080/",
          "height": 300
        },
        "id": "5ZmgONUP1GBG",
        "outputId": "0accb469-dbc1-4677-87c6-0c1626c85228"
      },
      "source": [
        "#Plotting the results\n",
        "# gca stands for 'get current axis'\n",
        "ax = plt.gca()\n",
        "\n",
        "output.plot(kind='line',x='tmax',y='p',ax=ax)\n",
        "plt.ylim(0, 1)"
      ],
      "execution_count": null,
      "outputs": [
        {
          "output_type": "execute_result",
          "data": {
            "text/plain": [
              "(0.0, 1.0)"
            ]
          },
          "metadata": {},
          "execution_count": 12
        },
        {
          "output_type": "display_data",
          "data": {
            "image/png": "[encoded data removed]",
            "text/plain": [
              "<Figure size 432x288 with 1 Axes>"
            ]
          },
          "metadata": {
            "needs_background": "light"
          }
        }
      ]
    },
    {
      "cell_type": "markdown",
      "metadata": {
        "id": "qX1Hr1GDC0WO"
      },
      "source": [
        "Building the Model as one function"
      ]
    },
    {
      "cell_type": "code",
      "metadata": {
        "id": "ekHv-EXtAq3J"
      },
      "source": [
        "def unbiased_selection(N, tmax):\n",
        "  \"\"\"Unbiased Transission model where N: is the population, tmax: number of generations. \"\"\"\n",
        "  def random_gen(size, p=None):\n",
        "    \"\"\"Generate n-length ndarray of gen\"\"\"\n",
        "    if not p:\n",
        "        # default probabilities\n",
        "        p = (0.5, 0.5)\n",
        "    traits = (\"A\", \"B\")\n",
        "    return np.random.choice(traits, size=size, p=p)\n",
        "\n",
        "  #Create first gen\n",
        "  df = pd.DataFrame(random_gen(N))\n",
        "  df.columns = ['traits']\n",
        "\n",
        "  #create output\n",
        "  data = [[1, df['traits'].value_counts()['A']/N]]\n",
        "  output = pd.DataFrame(data, columns = ['tmax', 'p'])\n",
        "\n",
        "  #Selection\n",
        "  for t in range(2,tmax+1):\n",
        "    p_df = df\n",
        "    records = p_df.to_records(index=False)\n",
        "    result = list(records)\n",
        "    df = pd.DataFrame(np.random.choice(result, N, replace= True))\n",
        "    exists = 'A' in df.traits.unique()\n",
        "    if exists:\n",
        "      s = df['traits'].value_counts()['A']\n",
        "    else:\n",
        "      s = 0\n",
        "    o = {'tmax': t, 'p': s/N}\n",
        "    output = output.append(o, ignore_index = True)\n",
        "  \n",
        "  #Plot\n",
        "  ax = plt.gca()\n",
        "  output.plot(kind='line',x='tmax',y='p',ax=ax)\n",
        "  plt.ylim(0, 1)\n"
      ],
      "execution_count": null,
      "outputs": []
    },
    {
      "cell_type": "code",
      "metadata": {
        "id": "S5s1hSfsC75p"
      },
      "source": [
        "def unbiased_selection_2(N, tmax, r):\n",
        "  \"\"\"Unbiased Transmission model with multiple runs where N: is the population, tmax: number of generations and r: number of runs. \"\"\"\n",
        "  runs=[]\n",
        "  for r in range(r):\n",
        "    unbiased_selection(N,tmax)\n",
        "    runs.append(r+1)\n",
        "    plt.legend(runs)\n"
      ],
      "execution_count": null,
      "outputs": []
    },
    {
      "cell_type": "code",
      "metadata": {
        "colab": {
          "base_uri": "https://localhost:8080/",
          "height": 283
        },
        "id": "Zwfm05usD47B",
        "outputId": "74b030cf-390a-4ccd-cc89-9d4b8f797764"
      },
      "source": [
        "unbiased_selection_2(10000,200,4)"
      ],
      "execution_count": null,
      "outputs": [
        {
          "output_type": "display_data",
          "data": {
            "image/png": "[encoded data removed]",
            "text/plain": [
              "<Figure size 432x288 with 1 Axes>"
            ]
          },
          "metadata": {
            "needs_background": "light"
          }
        }
      ]
    },
    {
      "cell_type": "code",
      "metadata": {
        "id": "LvR873YWnyx0"
      },
      "source": [
        ""
      ],
      "execution_count": null,
      "outputs": []
    }
  ]
}